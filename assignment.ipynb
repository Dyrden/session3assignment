{
 "cells": [
  {
   "cell_type": "code",
   "execution_count": 12,
   "metadata": {},
   "outputs": [
    {
     "name": "stdout",
     "output_type": "stream",
     "text": [
      "{'Mille', 'Torben', 'Søren', 'Troels', 'Hans', 'Benny'}\n",
      "{'Tine'}\n",
      "1\n",
      "{'Rane', 'Trunte', 'Tine'}\n",
      "{'Tine'}\n",
      "{'Tine'}\n",
      "{'Anna', 'Stine', 'Claus', 'James', 'Allan', 'Ole', 'Bent', 'Niels', 'Lars'}\n"
     ]
    }
   ],
   "source": [
    "board_of_directors = {\"Benny\", \"Hans\", \"Tine\", \"Mille\", \"Torben\", \"Troels\", \"Søren\"}\n",
    "management = {\"Tine\", \"Trunte\", \"Rane\"}\n",
    "employees = {\"Niels\", \"Anna\", \"Tine\", \"Ole\", \"Trunte\", \"Bent\", \"Rane\", \"Allan\", \"Stine\", \"Claus\", \"James\", \"Lars\"}\n",
    "\n",
    "\n",
    "non_employee_directors = board_of_directors - employees\n",
    "print(non_employee_directors)\n",
    "\n",
    "\n",
    "employee_directors = board_of_directors.intersection(employees)\n",
    "print(employee_directors)\n",
    "\n",
    "management_members = len(board_of_directors.intersection(management))\n",
    "print(management_members)\n",
    "\n",
    "management_members_employee = management.intersection(employees)\n",
    "print(management_members_employee)\n",
    "\n",
    "management_members_board = management.intersection(board_of_directors)\n",
    "print(management_members_board)\n",
    "\n",
    "member_of_all = board_of_directors.intersection(management).intersection(employees)\n",
    "print(member_of_all)\n",
    "\n",
    "just_employee = employees - management - board_of_directors\n",
    "print(just_employee)\n",
    "\n",
    "\n"
   ]
  },
  {
   "cell_type": "code",
   "execution_count": 13,
   "metadata": {},
   "outputs": [
    {
     "name": "stdout",
     "output_type": "stream",
     "text": [
      "[('a', 'Alpha'), ('b', 'Beta'), ('g', 'Gamma')]\n"
     ]
    }
   ],
   "source": [
    "data = {'a': 'Alpha', 'b': 'Beta', 'g': 'Gamma'}\n",
    "\n",
    "tuples = [(key, value) for key, value in data.items()]\n",
    "\n",
    "print(tuples)"
   ]
  },
  {
   "cell_type": "code",
   "execution_count": 28,
   "metadata": {},
   "outputs": [
    {
     "name": "stdout",
     "output_type": "stream",
     "text": [
      "{'i', 'a', 'æ', 'e', 'u', 'å', 'ø', 'o', 'y'}\n",
      "{'i', 'a', 'æ', 'e', 'u', 'å', 'ø', 'o', 'y'}\n",
      "{'æ', 'å', 'ø'}\n",
      "{'æ', 'å', 'ø'}\n",
      "set()\n",
      "set()\n",
      "{'i', 'a', 'e', 'u', 'o', 'y'}\n",
      "{'i', 'a', 'e', 'u', 'o', 'y'}\n"
     ]
    }
   ],
   "source": [
    "data_1 = {'a', 'e', 'i', 'o', 'u', 'y'}\n",
    "data_2 = {'a', 'e', 'i', 'o', 'u', 'y', 'æ' ,'ø', 'å'}\n",
    "\n",
    "method_union = data_1.union(data_2)\n",
    "op_union = data_1 | data_2\n",
    "print(method_union)\n",
    "print(op_union)\n",
    "\n",
    "\n",
    "method_sym_diff = data_1.symmetric_difference(data_2)\n",
    "op_sym_diff = data_1 ^ data_2\n",
    "print(method_sym_diff)\n",
    "print(op_sym_diff)\n",
    "\n",
    "\n",
    "method_diff = data_1.difference(data_2)\n",
    "op_diff = data_1 - data_2\n",
    "print(method_diff)\n",
    "print(op_diff)\n",
    "\n",
    "\n",
    "method_disjoint = data_1.intersection(data_2)\n",
    "op_disjoint = data_1 & data_2\n",
    "print(method_disjoint)\n",
    "print(op_disjoint)\n"
   ]
  },
  {
   "cell_type": "code",
   "execution_count": 31,
   "metadata": {},
   "outputs": [
    {
     "name": "stdout",
     "output_type": "stream",
     "text": [
      "('1985', '03', '8')\n"
     ]
    }
   ],
   "source": [
    "\n",
    "\n",
    "dict_month = {'JAN' : '01',\n",
    "              'FEB' : '02',\n",
    "              'MAR' : '03',\n",
    "              'APR' : '04',\n",
    "              'MAY' : '05',\n",
    "              'JUN' : '06',\n",
    "              'JUL' : '07',\n",
    "              'AUG' : '08',\n",
    "              'SEP' : '09',\n",
    "              'OCT' : '10',\n",
    "              'NOV' : '11',\n",
    "              'DEC' : '12',}\n",
    "\n",
    "\n",
    "\n",
    "def split_date(date) : \n",
    "    parts = date.split('-')\n",
    "    day, month, year = parts\n",
    "    \n",
    "    translated_month = dict_month.get(month)\n",
    "    \n",
    "    if int(year) > 50 :\n",
    "        year = '19' + year\n",
    "    else :\n",
    "        year = '20' + year\n",
    "    \n",
    "    return (year, translated_month, day)\n",
    "    \n",
    "    \n",
    "print(split_date(\"8-MAR-85\"))\n",
    "    \n",
    "    "
   ]
  },
  {
   "cell_type": "code",
   "execution_count": 32,
   "metadata": {},
   "outputs": [
    {
     "name": "stdout",
     "output_type": "stream",
     "text": [
      "{'David', 'Charlie', 'Alice'}\n",
      "{'Frank', 'Grace'}\n",
      "{'Bob', 'Eve'}\n"
     ]
    }
   ],
   "source": [
    "invited_friends = {\"Alice\", \"Bob\", \"Charlie\", \"David\", \"Eve\"}\n",
    "rsvp_friends = {\"Bob\", \"Eve\", \"Frank\", \"Grace\"}\n",
    "\n",
    "def invitation_rsvp (friend_list, rsvp_list) :\n",
    "    print(friend_list - rsvp_list)\n",
    "    print(rsvp_list - friend_list)\n",
    "    print( friend_list & rsvp_list)\n",
    "    \n",
    "    \n",
    "invitation_rsvp(invited_friends, rsvp_friends)\n",
    "    "
   ]
  },
  {
   "cell_type": "code",
   "execution_count": 35,
   "metadata": {},
   "outputs": [
    {
     "name": "stdout",
     "output_type": "stream",
     "text": [
      "Alice\n",
      "Bob\n",
      "Charlie\n",
      "David\n"
     ]
    }
   ],
   "source": [
    "student_grades = {\n",
    "    \"Alice\": 90,\n",
    "    \"Bob\": 78,\n",
    "    \"Charlie\": 95,\n",
    "    \"David\": 88,\n",
    "    \"Eve\": 52\n",
    "}\n",
    "\n",
    "updates = {\n",
    "    \"Bob\": 87,\n",
    "    \"David\": 91,\n",
    "}\n",
    "\n",
    "\n",
    "def update_and_pass(new_grades) :\n",
    "    student_grades.update(new_grades)\n",
    "    \n",
    "    passed_students =  [student for student, grade in student_grades.items() if grade > 85]\n",
    "    \n",
    "    for student in passed_students :\n",
    "        print(student)\n",
    "        \n",
    "update_and_pass(updates)"
   ]
  }
 ],
 "metadata": {
  "kernelspec": {
   "display_name": "Python 3",
   "language": "python",
   "name": "python3"
  },
  "language_info": {
   "codemirror_mode": {
    "name": "ipython",
    "version": 3
   },
   "file_extension": ".py",
   "mimetype": "text/x-python",
   "name": "python",
   "nbconvert_exporter": "python",
   "pygments_lexer": "ipython3",
   "version": "3.11.5"
  },
  "orig_nbformat": 4
 },
 "nbformat": 4,
 "nbformat_minor": 2
}
